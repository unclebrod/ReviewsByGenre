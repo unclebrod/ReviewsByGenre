{
 "cells": [
  {
   "cell_type": "code",
   "execution_count": 1,
   "metadata": {
    "ExecuteTime": {
     "end_time": "2020-04-07T19:12:56.631383Z",
     "start_time": "2020-04-07T19:12:54.918688Z"
    }
   },
   "outputs": [],
   "source": [
    "# Initialize the workspace\n",
    "from pymongo import MongoClient\n",
    "import pprint\n",
    "from bs4 import BeautifulSoup\n",
    "import requests\n",
    "import pandas as pd\n",
    "import time\n",
    "import matplotlib.pyplot as plt\n",
    "# Always make it pretty.\n",
    "plt.style.use('ggplot')\n",
    "%matplotlib inline"
   ]
  },
  {
   "cell_type": "code",
   "execution_count": 2,
   "metadata": {
    "ExecuteTime": {
     "end_time": "2020-04-07T19:12:56.945750Z",
     "start_time": "2020-04-07T19:12:56.926760Z"
    }
   },
   "outputs": [],
   "source": [
    "# Connect with Mongo to place data into a database\n",
    "client = MongoClient('localhost', 27017)\n",
    "db = client['metacritic']"
   ]
  },
  {
   "cell_type": "code",
   "execution_count": null,
   "metadata": {
    "ExecuteTime": {
     "end_time": "2020-04-07T16:02:01.369213Z",
     "start_time": "2020-04-07T16:02:01.364219Z"
    }
   },
   "outputs": [],
   "source": [
    "# Examine the altcountry collection\n",
    "altcountry = db['altcountry']"
   ]
  },
  {
   "cell_type": "code",
   "execution_count": null,
   "metadata": {
    "ExecuteTime": {
     "end_time": "2020-04-07T16:02:16.076060Z",
     "start_time": "2020-04-07T16:02:16.056065Z"
    }
   },
   "outputs": [],
   "source": [
    "altcountry.count_documents({})"
   ]
  },
  {
   "cell_type": "code",
   "execution_count": null,
   "metadata": {
    "ExecuteTime": {
     "end_time": "2020-04-07T16:05:17.402132Z",
     "start_time": "2020-04-07T16:05:17.094312Z"
    }
   },
   "outputs": [],
   "source": [
    "pprint.pprint(list(altcountry.find()))"
   ]
  },
  {
   "cell_type": "code",
   "execution_count": null,
   "metadata": {
    "ExecuteTime": {
     "end_time": "2020-04-07T16:19:38.457438Z",
     "start_time": "2020-04-07T16:19:38.441442Z"
    }
   },
   "outputs": [],
   "source": [
    "# Place this data into a dataframe\n",
    "test_df = pd.DataFrame(list(altcountry.find())).set_index('_id')"
   ]
  },
  {
   "cell_type": "code",
   "execution_count": null,
   "metadata": {
    "ExecuteTime": {
     "end_time": "2020-04-07T16:22:00.587784Z",
     "start_time": "2020-04-07T16:22:00.579789Z"
    }
   },
   "outputs": [],
   "source": [
    "test_df.drop(columns='test', inplace=True)"
   ]
  },
  {
   "cell_type": "code",
   "execution_count": null,
   "metadata": {
    "ExecuteTime": {
     "end_time": "2020-04-07T16:31:44.484671Z",
     "start_time": "2020-04-07T16:31:44.476676Z"
    }
   },
   "outputs": [],
   "source": [
    "test_df.drop(test_df.index[0], inplace=True)"
   ]
  },
  {
   "cell_type": "code",
   "execution_count": 3,
   "metadata": {
    "ExecuteTime": {
     "end_time": "2020-04-07T19:14:05.064421Z",
     "start_time": "2020-04-07T19:14:05.058425Z"
    }
   },
   "outputs": [],
   "source": [
    "pd.set_option('display.max_rows', None)\n",
    "#test_df.drop_duplicates('album', inplace=True)"
   ]
  },
  {
   "cell_type": "code",
   "execution_count": null,
   "metadata": {
    "ExecuteTime": {
     "end_time": "2020-04-07T16:37:30.414471Z",
     "start_time": "2020-04-07T16:37:30.069668Z"
    }
   },
   "outputs": [],
   "source": [
    "test_df['score'].hist(bins=30)"
   ]
  },
  {
   "cell_type": "code",
   "execution_count": null,
   "metadata": {
    "ExecuteTime": {
     "end_time": "2020-04-07T16:39:58.600841Z",
     "start_time": "2020-04-07T16:39:58.596846Z"
    }
   },
   "outputs": [],
   "source": [
    "soul = db['soul']"
   ]
  },
  {
   "cell_type": "code",
   "execution_count": null,
   "metadata": {
    "ExecuteTime": {
     "end_time": "2020-04-07T16:41:27.725122Z",
     "start_time": "2020-04-07T16:41:27.704134Z"
    }
   },
   "outputs": [],
   "source": [
    "soul_df = pd.DataFrame(list(soul.find())).set_index('_id')"
   ]
  },
  {
   "cell_type": "code",
   "execution_count": null,
   "metadata": {
    "ExecuteTime": {
     "end_time": "2020-04-07T16:42:21.442195Z",
     "start_time": "2020-04-07T16:42:21.149368Z"
    }
   },
   "outputs": [],
   "source": [
    "soul_df['score'].hist(bins=20)"
   ]
  },
  {
   "cell_type": "code",
   "execution_count": null,
   "metadata": {
    "ExecuteTime": {
     "end_time": "2020-04-07T16:42:47.554781Z",
     "start_time": "2020-04-07T16:42:47.542789Z"
    }
   },
   "outputs": [],
   "source": [
    "soul_df.info()"
   ]
  },
  {
   "cell_type": "code",
   "execution_count": null,
   "metadata": {
    "ExecuteTime": {
     "end_time": "2020-04-07T16:45:15.892652Z",
     "start_time": "2020-04-07T16:45:15.863665Z"
    }
   },
   "outputs": [],
   "source": [
    "alternative = db['alternative']\n",
    "alternative_df = pd.DataFrame(list(alternative.find())).set_index('_id')\n",
    "alternative_df.shape"
   ]
  },
  {
   "cell_type": "code",
   "execution_count": 19,
   "metadata": {
    "ExecuteTime": {
     "end_time": "2020-04-07T19:24:25.802643Z",
     "start_time": "2020-04-07T19:24:25.786654Z"
    }
   },
   "outputs": [],
   "source": [
    "# Create Mongo collections in which to place data\n",
    "# NOTE TO SELF: excluding comedy & psychedelic as it looks like they weren't\n",
    "# scraped properly/they only have ~10 entries\n",
    "altcountry = db['altcountry']\n",
    "alternative = db['alternative']\n",
    "blues = db['blues']\n",
    "country = db['country']\n",
    "dance = db['dance']\n",
    "electronic = db['electronic']\n",
    "experimental = db['experimental']\n",
    "folk = db['folk']\n",
    "house = db['house']\n",
    "indie = db['indie']\n",
    "jazz = db['jazz']\n",
    "latin = db['latin']\n",
    "metal = db['metal']\n",
    "pop = db['pop']\n",
    "punk = db['punk']\n",
    "rap = db['rap']\n",
    "rb = db['rb']\n",
    "reggae = db['reggae']\n",
    "rock = db['rock']\n",
    "singersongwriter = db['singersongwriter']\n",
    "soul = db['soul']\n",
    "soundtrack = db['soundtrack']\n",
    "techno = db['techno']\n",
    "vocal = db['vocal']\n",
    "world = db['world']\n",
    "coll_list = [altcountry, alternative, blues, country,\n",
    "             dance, electronic, experimental, folk, house, indie,\n",
    "             jazz, latin, metal, pop, punk, rap,\n",
    "             rb, reggae, rock, singersongwriter, soul,\n",
    "             soundtrack, techno, vocal, world]"
   ]
  },
  {
   "cell_type": "code",
   "execution_count": 20,
   "metadata": {
    "ExecuteTime": {
     "end_time": "2020-04-07T19:24:31.411691Z",
     "start_time": "2020-04-07T19:24:31.399699Z"
    }
   },
   "outputs": [],
   "source": [
    "# I'm only interested in the keys as strings but copy/pasted this in for \n",
    "# convenience\n",
    "genre_dict = {'alt-country': 6, 'alternative': 38, 'blues':6,\n",
    "              'country': 25, 'dance':6, 'electronic': 79, 'experimental':10,\n",
    "              'folk': 22, 'house':5, 'indie': 74, 'jazz': 13, 'latin':2,\n",
    "              'metal':6, 'pop':32, 'punk':4, 'rap':48,\n",
    "              'rb':26, 'reggae':3, 'rock': 132, 'singer-songwriter':9,\n",
    "              'soul':7, 'soundtrack':2, 'techno':6, 'vocal':4, 'world':2}"
   ]
  },
  {
   "cell_type": "code",
   "execution_count": 73,
   "metadata": {
    "ExecuteTime": {
     "end_time": "2020-04-07T20:21:26.603384Z",
     "start_time": "2020-04-07T20:21:26.589389Z"
    }
   },
   "outputs": [],
   "source": [
    "# Create a function that turns collections into dataframes\n",
    "def coll_to_df(collections, names):\n",
    "    '''\n",
    "    Given a list of MongoDB collections and their associated names (for\n",
    "    record keeping), this function returns that name and the collection as a\n",
    "    dataframe\n",
    "    \n",
    "    Parameters:\n",
    "    collections (list): list of MongoDB collections\n",
    "    names (list of strings): list of names associated with collections, input\n",
    "    in order\n",
    "    \n",
    "    Returns:\n",
    "    df_list (list of tuples): list of name-dataframe tuples\n",
    "    '''\n",
    "    df_list = []\n",
    "    for coll, name in zip(collections,names):\n",
    "        df = pd.DataFrame(list(coll.find())).set_index('_id')\n",
    "        if 'test' in df.columns:\n",
    "            df.drop(columns='test', inplace=True)\n",
    "        if True in df.duplicated(['album', 'artist']).values:\n",
    "            df.drop_duplicates(['album', 'artist'], inplace=True)\n",
    "        if coll == altcountry:\n",
    "            df.drop(df.index[0], inplace=True)\n",
    "        df_list.append((name, df))\n",
    "    return df_list"
   ]
  },
  {
   "cell_type": "code",
   "execution_count": 74,
   "metadata": {
    "ExecuteTime": {
     "end_time": "2020-04-07T20:21:32.391309Z",
     "start_time": "2020-04-07T20:21:32.049457Z"
    }
   },
   "outputs": [],
   "source": [
    "x = coll_to_df(coll_list, genre_dict.keys())"
   ]
  },
  {
   "cell_type": "code",
   "execution_count": 76,
   "metadata": {
    "ExecuteTime": {
     "end_time": "2020-04-07T20:22:12.179054Z",
     "start_time": "2020-04-07T20:22:12.170053Z"
    }
   },
   "outputs": [],
   "source": [
    "# Create a function that turns dataframes into score series\n",
    "def df_to_scores(df_list):\n",
    "    '''\n",
    "    Given a list of name-dataframe tuples (created in coll_to_df), this \n",
    "    function returns \n",
    "    \n",
    "    Parameters:\n",
    "    df_list (list of tuples): list of name-dataframe tuples\n",
    "    \n",
    "    Returns:\n",
    "    score_list (list of tuples): list of name-series tuples\n",
    "    '''\n",
    "    score_list = []\n",
    "    for df in df_list:\n",
    "        score_array = df[1]['score']\n",
    "        score_list.append((df[0], score_array))\n",
    "    return score_list"
   ]
  },
  {
   "cell_type": "code",
   "execution_count": 80,
   "metadata": {
    "ExecuteTime": {
     "end_time": "2020-04-07T20:23:11.604246Z",
     "start_time": "2020-04-07T20:23:11.599269Z"
    }
   },
   "outputs": [],
   "source": [
    "w = df_to_scores(x)"
   ]
  },
  {
   "cell_type": "code",
   "execution_count": 126,
   "metadata": {
    "ExecuteTime": {
     "end_time": "2020-04-07T21:26:28.683950Z",
     "start_time": "2020-04-07T21:26:28.511049Z"
    }
   },
   "outputs": [],
   "source": [
    "# Create a function that plots histograms of our score counts\n",
    "def plot_scores(score_list):\n",
    "    '''\n",
    "    Given a list of name-array tuples (created in df_to_scores), this \n",
    "    function plots their histograms \n",
    "    \n",
    "    Parameters:\n",
    "    score_list (list of tuples): list of name-series tuples\n",
    "    '''\n",
    "    fig, axs = plt.subplots(5,5, figsize=(16,16),\n",
    "                            sharex = True)\n",
    "    for (name, arr), ax in zip(score_list, axs.flatten()):\n",
    "        ax.hist(arr, bins = 15)\n",
    "        ax.set_title(name.capitalize())\n",
    "    fig.tight_layout\n",
    "    fig.suptitle('Review Score Counts by Genre', y = 0.93, \n",
    "                 size = 'xx-large', weight = 'bold', \n",
    "                 stretch = 'expanded')\n",
    "    fig.text(0.5, 0.1, 'Review Score', ha='center', va='center', \n",
    "             size = 'xx-large', stretch = 'semi-expanded')\n",
    "    fig.text(0.06, 0.5, 'Counts', ha='center', va='center', \n",
    "             rotation='vertical', size = 'xx-large',\n",
    "             stretch = 'semi-expanded')"
   ]
  },
  {
   "cell_type": "code",
   "execution_count": 127,
   "metadata": {
    "ExecuteTime": {
     "end_time": "2020-04-07T21:26:42.288053Z",
     "start_time": "2020-04-07T21:26:34.796449Z"
    }
   },
   "outputs": [
    {
     "data": {
      "image/png": "[encoded data removed]",
      "text/plain": [
       "<Figure size 1152x1152 with 25 Axes>"
      ]
     },
     "metadata": {
      "needs_background": "light"
     },
     "output_type": "display_data"
    }
   ],
   "source": [
    "plot_scores(w)"
   ]
  },
  {
   "cell_type": "code",
   "execution_count": 93,
   "metadata": {
    "ExecuteTime": {
     "end_time": "2020-04-07T20:45:29.332554Z",
     "start_time": "2020-04-07T20:45:29.324557Z"
    }
   },
   "outputs": [],
   "source": [
    "# Create a function that provides a count of how many counts of scores each\n",
    "# genre has\n",
    "def count_scores(score_list):\n",
    "    '''\n",
    "    Given a list of name-array tuples (created in df_to_scores), this \n",
    "    function provides the count of scores in each genre \n",
    "    \n",
    "    Parameters:\n",
    "    score_list (list of tuples): list of name-series tuples\n",
    "    \n",
    "    Returns:\n",
    "    score_dict (dict): dictionary of genres and respective review counts\n",
    "    '''\n",
    "    score_dict = {}\n",
    "    for name, array in score_list:\n",
    "        score_dict[name] = len(array)\n",
    "        print('The {} genre has {} recorded scores'.format(name, len(array)))\n",
    "    return score_dict"
   ]
  },
  {
   "cell_type": "code",
   "execution_count": 95,
   "metadata": {
    "ExecuteTime": {
     "end_time": "2020-04-07T20:45:50.808271Z",
     "start_time": "2020-04-07T20:45:50.794278Z"
    }
   },
   "outputs": [
    {
     "name": "stdout",
     "output_type": "stream",
     "text": [
      "The alt-country genre has 161 recorded scores\n",
      "The alternative genre has 1117 recorded scores\n",
      "The blues genre has 155 recorded scores\n",
      "The country genre has 748 recorded scores\n",
      "The dance genre has 174 recorded scores\n",
      "The electronic genre has 2358 recorded scores\n",
      "The experimental genre has 284 recorded scores\n",
      "The folk genre has 648 recorded scores\n",
      "The house genre has 127 recorded scores\n",
      "The indie genre has 2219 recorded scores\n",
      "The jazz genre has 376 recorded scores\n",
      "The latin genre has 55 recorded scores\n",
      "The metal genre has 154 recorded scores\n",
      "The pop genre has 928 recorded scores\n",
      "The punk genre has 109 recorded scores\n",
      "The rap genre has 1419 recorded scores\n",
      "The rb genre has 772 recorded scores\n",
      "The reggae genre has 68 recorded scores\n",
      "The rock genre has 3948 recorded scores\n",
      "The singer-songwriter genre has 257 recorded scores\n",
      "The soul genre has 189 recorded scores\n",
      "The soundtrack genre has 51 recorded scores\n",
      "The techno genre has 154 recorded scores\n",
      "The vocal genre has 96 recorded scores\n",
      "The world genre has 37 recorded scores\n"
     ]
    },
    {
     "data": {
      "text/plain": [
       "{'alt-country': 161,\n",
       " 'alternative': 1117,\n",
       " 'blues': 155,\n",
       " 'country': 748,\n",
       " 'dance': 174,\n",
       " 'electronic': 2358,\n",
       " 'experimental': 284,\n",
       " 'folk': 648,\n",
       " 'house': 127,\n",
       " 'indie': 2219,\n",
       " 'jazz': 376,\n",
       " 'latin': 55,\n",
       " 'metal': 154,\n",
       " 'pop': 928,\n",
       " 'punk': 109,\n",
       " 'rap': 1419,\n",
       " 'rb': 772,\n",
       " 'reggae': 68,\n",
       " 'rock': 3948,\n",
       " 'singer-songwriter': 257,\n",
       " 'soul': 189,\n",
       " 'soundtrack': 51,\n",
       " 'techno': 154,\n",
       " 'vocal': 96,\n",
       " 'world': 37}"
      ]
     },
     "execution_count": 95,
     "metadata": {},
     "output_type": "execute_result"
    }
   ],
   "source": [
    "count_scores(w)"
   ]
  },
  {
   "cell_type": "code",
   "execution_count": 160,
   "metadata": {
    "ExecuteTime": {
     "end_time": "2020-04-07T22:13:18.279725Z",
     "start_time": "2020-04-07T22:13:18.268732Z"
    }
   },
   "outputs": [],
   "source": [
    "# Create a function that plots histograms of our score counts\n",
    "def plot_by_genre(genre, score_list):\n",
    "    '''\n",
    "    Given a valid genre and a score_list, this function will plot the \n",
    "    histogram of that genre and save it.\n",
    "    \n",
    "    Parameters:\n",
    "    genre (string): name of genre to plot\n",
    "    '''\n",
    "    df_tup = [tup for tup in score_list if tup[0] == genre]\n",
    "    name = df_tup[0][0]\n",
    "    df = df_tup[0][1].values\n",
    "    fig, ax = plt.subplots()\n",
    "    ax.hist(df, bins=(len(df)//8), color='b')\n",
    "    ax.set_title(f'Review Count for {name.capitalize()}')\n",
    "    ax.set_xlabel('Review Score')\n",
    "    ax.set_ylabel('Counts')"
   ]
  },
  {
   "cell_type": "code",
   "execution_count": 161,
   "metadata": {
    "ExecuteTime": {
     "end_time": "2020-04-07T22:13:24.277047Z",
     "start_time": "2020-04-07T22:13:23.993965Z"
    }
   },
   "outputs": [
    {
     "data": {
      "image/png": "[encoded data removed]",
      "text/plain": [
       "<Figure size 432x288 with 1 Axes>"
      ]
     },
     "metadata": {
      "needs_background": "light"
     },
     "output_type": "display_data"
    }
   ],
   "source": [
    "plot_by_genre('alt-country', w)"
   ]
  },
  {
   "cell_type": "code",
   "execution_count": 131,
   "metadata": {
    "ExecuteTime": {
     "end_time": "2020-04-07T21:44:52.226641Z",
     "start_time": "2020-04-07T21:44:52.217647Z"
    }
   },
   "outputs": [
    {
     "name": "stdout",
     "output_type": "stream",
     "text": [
      "alt-country\n",
      "alternative\n",
      "blues\n",
      "country\n",
      "dance\n",
      "electronic\n",
      "experimental\n",
      "folk\n",
      "house\n",
      "indie\n",
      "jazz\n",
      "latin\n",
      "metal\n",
      "pop\n",
      "punk\n",
      "rap\n",
      "rb\n",
      "reggae\n",
      "rock\n",
      "singer-songwriter\n",
      "soul\n",
      "soundtrack\n",
      "techno\n",
      "vocal\n",
      "world\n"
     ]
    }
   ],
   "source": [
    "for score in w:\n",
    "    print(score[0])"
   ]
  },
  {
   "cell_type": "code",
   "execution_count": 171,
   "metadata": {
    "ExecuteTime": {
     "end_time": "2020-04-07T22:39:30.531066Z",
     "start_time": "2020-04-07T22:39:30.521089Z"
    }
   },
   "outputs": [],
   "source": [
    "# Create a function that plots the distribution of all Metacritic scores\n",
    "def plot_all_genres(score_list):\n",
    "    '''\n",
    "    Given a list of name-array tuples (created in df_to_scores), this \n",
    "    function plots the histogram of all reviews combined\n",
    "    \n",
    "    Parameters:\n",
    "    score_list (list of tuples): list of name-series tuples\n",
    "    '''\n",
    "    all_scores = []\n",
    "    for name, arr in score_list:\n",
    "        all_scores.extend(arr.values)\n",
    "    fig, ax = plt.subplots()\n",
    "    ax.hist((all_scores), color='purple', bins = 30)\n",
    "    ax.set_title('Review Count for All Scores')\n",
    "    ax.set_xlabel('Review Score')\n",
    "    ax.set_ylabel('Counts')\n",
    "    print(np.mean(all_scores))"
   ]
  },
  {
   "cell_type": "code",
   "execution_count": 172,
   "metadata": {
    "ExecuteTime": {
     "end_time": "2020-04-07T22:39:36.213810Z",
     "start_time": "2020-04-07T22:39:35.903988Z"
    }
   },
   "outputs": [
    {
     "name": "stdout",
     "output_type": "stream",
     "text": [
      "72.26975427607805\n"
     ]
    },
    {
     "data": {
      "image/png": "[encoded data removed]",
      "text/plain": [
       "<Figure size 432x288 with 1 Axes>"
      ]
     },
     "metadata": {
      "needs_background": "light"
     },
     "output_type": "display_data"
    }
   ],
   "source": [
    "plot_all_genres(w)"
   ]
  },
  {
   "cell_type": "code",
   "execution_count": null,
   "metadata": {},
   "outputs": [],
   "source": []
  },
  {
   "cell_type": "code",
   "execution_count": null,
   "metadata": {},
   "outputs": [],
   "source": []
  },
  {
   "cell_type": "code",
   "execution_count": null,
   "metadata": {},
   "outputs": [],
   "source": []
  },
  {
   "cell_type": "code",
   "execution_count": null,
   "metadata": {},
   "outputs": [],
   "source": []
  },
  {
   "cell_type": "code",
   "execution_count": null,
   "metadata": {},
   "outputs": [],
   "source": []
  },
  {
   "cell_type": "code",
   "execution_count": null,
   "metadata": {},
   "outputs": [],
   "source": []
  },
  {
   "cell_type": "code",
   "execution_count": null,
   "metadata": {},
   "outputs": [],
   "source": []
  },
  {
   "cell_type": "code",
   "execution_count": null,
   "metadata": {},
   "outputs": [],
   "source": []
  },
  {
   "cell_type": "code",
   "execution_count": null,
   "metadata": {},
   "outputs": [],
   "source": []
  },
  {
   "cell_type": "code",
   "execution_count": null,
   "metadata": {},
   "outputs": [],
   "source": []
  },
  {
   "cell_type": "code",
   "execution_count": null,
   "metadata": {},
   "outputs": [],
   "source": []
  }
 ],
 "metadata": {
  "kernelspec": {
   "display_name": "Python 3",
   "language": "python",
   "name": "python3"
  },
  "language_info": {
   "codemirror_mode": {
    "name": "ipython",
    "version": 3
   },
   "file_extension": ".py",
   "mimetype": "text/x-python",
   "name": "python",
   "nbconvert_exporter": "python",
   "pygments_lexer": "ipython3",
   "version": "3.7.6"
  },
  "toc": {
   "base_numbering": 1,
   "nav_menu": {},
   "number_sections": true,
   "sideBar": true,
   "skip_h1_title": false,
   "title_cell": "Table of Contents",
   "title_sidebar": "Contents",
   "toc_cell": false,
   "toc_position": {},
   "toc_section_display": true,
   "toc_window_display": false
  },
  "varInspector": {
   "cols": {
    "lenName": 16,
    "lenType": 16,
    "lenVar": 40
   },
   "kernels_config": {
    "python": {
     "delete_cmd_postfix": "",
     "delete_cmd_prefix": "del ",
     "library": "var_list.py",
     "varRefreshCmd": "print(var_dic_list())"
    },
    "r": {
     "delete_cmd_postfix": ") ",
     "delete_cmd_prefix": "rm(",
     "library": "var_list.r",
     "varRefreshCmd": "cat(var_dic_list()) "
    }
   },
   "types_to_exclude": [
    "module",
    "function",
    "builtin_function_or_method",
    "instance",
    "_Feature"
   ],
   "window_display": false
  }
 },
 "nbformat": 4,
 "nbformat_minor": 4
}
